{
 "cells": [
  {
   "cell_type": "code",
   "execution_count": null,
   "metadata": {
    "collapsed": false,
    "scrolled": true
   },
   "outputs": [],
   "source": [
    "import requests\n",
    "import re\n",
    "import codecs\n",
    "import csv\n",
    "from lxml import etree\n",
    "\n",
    "area_title = ['省','市','县']\n",
    "cost_title = ['下限','上限']\n",
    "parts = {'inst-intro':'详情_机构介绍', 'inst-charge':'详情_收费标准', 'facilities':'详情_设施', \\\n",
    "         'service-content':'详情_服务内容', 'inst-notes':'详情_入住须知'}\n",
    "fn = ['id',\n",
    " '交通',\n",
    " '人气',\n",
    " '占地面积',\n",
    " '地址',\n",
    " '床位数',\n",
    " '成立时间',\n",
    " '所在地区',\n",
    " '所在地区_县',\n",
    " '所在地区_市',\n",
    " '所在地区_省',\n",
    " '收住对象',\n",
    " '收住对象_全护理',\n",
    " '收住对象_半自理',\n",
    " '收住对象_特护',\n",
    " '收住对象_自理',\n",
    " '收费区间',\n",
    " '收费区间_上限',\n",
    " '收费区间_下限',\n",
    " '机构性质',\n",
    " '机构类型',\n",
    " '特色服务',\n",
    " '特色服务_具备医保定点资格',\n",
    " '特色服务_可接收异地老人',\n",
    " '电话',\n",
    " '网址',\n",
    " '联系人',\n",
    " '详情_入住须知',\n",
    " '详情_收费标准',\n",
    " '详情_服务内容',\n",
    " '详情_机构介绍',\n",
    " '详情_设施',\n",
    " '负责人',\n",
    " '邮箱',\n",
    " '邮编']\n",
    "def scrape_detail(url):\n",
    "    pid = re.search('resthome/(\\d+)\\.html', url).group(1)\n",
    "    info = {'id':pid}\n",
    "    hxs = etree.HTML(requests.get(url).content)\n",
    "    # phone\n",
    "    try:\n",
    "        phone = hxs.xpath('/html/body/div[6]/div[1]/div[1]/div/div[2]/ul/li[@class=\"phone\"]/text()')[0].strip()\n",
    "        info['电话'] = phone\n",
    "    except IndexError:\n",
    "        pass\n",
    "    # hotness\n",
    "    try:\n",
    "        hotness = hxs.xpath('/html/body/div[6]/div[1]/div[1]/div/div[1]/span[last()]/text()')[0].split('：')\n",
    "        info[hotness[0].strip()] = int(hotness[-1])\n",
    "    except IndexError:\n",
    "        pass\n",
    "    # basic info\n",
    "    items = hxs.xpath('/html/body/div[6]/div[1]/div[2]/div[2]/div[1]/div/ul/li')\n",
    "    for item in items:\n",
    "        try:\n",
    "            key = item.xpath('em/text()')[0].replace(' ','').replace('：','')\n",
    "            value = ''.join(item.xpath('.//text()')[1:]).strip()\n",
    "            if key=='收住对象':\n",
    "                value = value.split()\n",
    "                for k in value:\n",
    "                    info['{}_{}'.format(key, k)] = True\n",
    "                value = ' '.join(value)\n",
    "            elif key=='所在地区':\n",
    "                value = value.replace(' ','').split('-')\n",
    "                for i in range(len(value)):\n",
    "                    info['{}_{}'.format(key, area_title[i])] = value[i]\n",
    "                value = '-'.join(value)\n",
    "            elif key=='特色服务':\n",
    "                value = value.split()\n",
    "                for k in value:\n",
    "                    info['{}_{}'.format(key, k)] = True\n",
    "                value = ' '.join(value)\n",
    "            elif key=='收费区间':\n",
    "                value = value.replace(' ','').split('-')\n",
    "                for i in range(len(value)):\n",
    "                    info['{}_{}'.format(key, cost_title[i])] = value[i]\n",
    "                value = '-'.join(value)\n",
    "            info[key] = value\n",
    "        except IndexError:\n",
    "            pass\n",
    "    # contact info\n",
    "    items = hxs.xpath('//*[@id=\"boxWrap\"]/div/ul/li')\n",
    "    for item in items:\n",
    "        try:\n",
    "            key = item.xpath('em/text()')[0].replace(' ','').replace('：','')\n",
    "            value = ''.join(item.xpath('.//text()')[1:]).strip()\n",
    "            info[key] = value\n",
    "        except IndexError:\n",
    "            pass\n",
    "    for part in parts:\n",
    "        xpath_query = '//div[@class=\"{}\"]/div[@class=\"cont\"]//text()'.format(part)\n",
    "        try:\n",
    "            info[parts[part]]=' '.join(\n",
    "                (''.join(hxs.xpath(xpath_query))).split()\n",
    "                                       )\n",
    "        except Exception:\n",
    "            pass\n",
    "    return info\n",
    "\n",
    "def export2csv(file, items, fieldnames=None):\n",
    "    if not fieldnames:\n",
    "        fieldnames = list(items.keys())\n",
    "    writer = csv.DictWriter(file, fieldnames=fieldnames, restval='', extrasaction='ignore')\n",
    "    if file.tell()==0:\n",
    "        writer.writerow(dict((t,t) for t in fieldnames))\n",
    "    writer.writerows(items)\n",
    "    return file\n",
    "\n",
    "def scrape_location(location):\n",
    "    print('scraping '+location)\n",
    "    host = 'http://www.yanglao.com.cn'\n",
    "    base_url = '{}/{}'.format(host, location)\n",
    "    # get number of pages\n",
    "    hxs = etree.HTML(requests.get(base_url).content)\n",
    "    last_page_url = hxs.xpath('//*[@id=\"yw1\"]/li[14]/a/@href')[0]\n",
    "    pages = 1\n",
    "    try:\n",
    "        pages = int(last_page_url.split('_')[-1])\n",
    "    except Exception:\n",
    "        pass\n",
    "#     data = []\n",
    "    count = 0\n",
    "    filename = '{}.csv'.format(location)\n",
    "    csv_file = codecs.open(filename, 'wb','utf-8-sig')\n",
    "    fieldnames = set()\n",
    "    for page_n in range(1, pages+1):\n",
    "        url = ''\n",
    "        if page_n==1:\n",
    "            url = base_url\n",
    "        else:\n",
    "            url = '{}_{}'.format(base_url, page_n)\n",
    "        hxs = etree.HTML(requests.get(url).content)\n",
    "        homes = hxs.xpath('//*[@id=\"yw0\"]/ul/li/div/h4/a/@href')\n",
    "        for relative_url in homes:\n",
    "            info = scrape_detail(host+relative_url)\n",
    "#             data.append(info)\n",
    "            fieldnames |= set(info.keys())\n",
    "            count += 1\n",
    "            export2csv(csv_file, [info], fn)\n",
    "        print(page_n, count, info['id'])\n",
    "    # export2csv(csv_file, data, fn)\n",
    "    csv_file.close()\n",
    "    print(len(fn), len(fieldnames))\n",
    "for loc in ['jiangsu']:\n",
    "    scrape_location(loc)"
   ]
  },
  {
   "cell_type": "code",
   "execution_count": 187,
   "metadata": {
    "collapsed": false
   },
   "outputs": [
    {
     "name": "stdout",
     "output_type": "stream",
     "text": [
      "{'床位数': '500', '人气': 9536, '收住对象': '自理 半自理 全护理 特护', '负责人': '林先生', '所在地区_县': '普陀区', '收住对象_特护': True, '收费区间_上限': '9000', '收费区间_下限': '3000', '交通': '', '联系人': '林小姐', '收费区间': '3000-9000', 'id': '41827', '电话': '', '所在地区_省': '上海', '所在地区': '上海-上海市-普陀区', '收住对象_自理': True, '机构类型': '养老院', '占地面积': '2000', '机构性质': '民办', '特色服务': '可接收异地老人 具备医保定点资格', '成立时间': '2014年10月08日', '特色服务_可接收异地老人': True, '网址': 'http://www.yanglao.com.cn/resthome/41827.html', '所在地区_市': '上海市', '特色服务_具备医保定点资格': True, '收住对象_半自理': True, '地址': '上海市远景路69号', '收住对象_全护理': True}\n"
     ]
    }
   ],
   "source": [
    "url = 'http://www.yanglao.com.cn/resthome/41827.html'\n",
    "print(scrape_detail(url))"
   ]
  },
  {
   "cell_type": "code",
   "execution_count": 4,
   "metadata": {
    "collapsed": false
   },
   "outputs": [
    {
     "data": {
      "text/plain": [
       "35"
      ]
     },
     "execution_count": 4,
     "metadata": {},
     "output_type": "execute_result"
    }
   ],
   "source": [
    "len(fn)"
   ]
  },
  {
   "cell_type": "code",
   "execution_count": 228,
   "metadata": {
    "collapsed": false
   },
   "outputs": [
    {
     "name": "stdout",
     "output_type": "stream",
     "text": [
      "\n",
      "\n",
      "\n",
      "\n",
      "\n"
     ]
    }
   ],
   "source": [
    "for part in parts:\n",
    "    print(' '.join(\n",
    "                (''.join(hxs.xpath('//div[@class=\"inst-charge\"]/div[@class=\"cont\"]//text()'))).split()\n",
    "                                       ))"
   ]
  },
  {
   "cell_type": "code",
   "execution_count": 3,
   "metadata": {
    "collapsed": false
   },
   "outputs": [
    {
     "name": "stderr",
     "output_type": "stream",
     "text": [
      "/Users/chester/anaconda/envs/scraper/lib/python3.5/site-packages/IPython/parallel.py:13: ShimWarning: The `IPython.parallel` package has been deprecated. You should import from ipyparallel instead.\n",
      "  \"You should import from ipyparallel instead.\", ShimWarning)\n"
     ]
    }
   ],
   "source": [
    "qtconsole"
   ]
  },
  {
   "cell_type": "code",
   "execution_count": 1,
   "metadata": {
    "collapsed": true
   },
   "outputs": [],
   "source": [
    "import requests\n",
    "import re\n",
    "import codecs\n",
    "import csv\n",
    "from lxml import etree"
   ]
  },
  {
   "cell_type": "code",
   "execution_count": 43,
   "metadata": {
    "collapsed": false
   },
   "outputs": [
    {
     "name": "stdout",
     "output_type": "stream",
     "text": [
      "1\n",
      "2\n",
      "3\n",
      "4\n",
      "5\n",
      "6\n",
      "7\n",
      "8\n",
      "9\n",
      "10\n",
      "11\n",
      "12\n",
      "13\n",
      "14\n",
      "15\n",
      "16\n",
      "17\n",
      "18\n",
      "19\n",
      "20\n",
      "21\n",
      "22\n",
      "23\n",
      "24\n",
      "25\n",
      "26\n",
      "27\n",
      "28\n",
      "29\n",
      "30\n",
      "31\n",
      "32\n",
      "33\n",
      "34\n",
      "35\n",
      "36\n",
      "37\n",
      "38\n",
      "39\n",
      "40\n",
      "41\n",
      "42\n",
      "43\n",
      "44\n",
      "45\n",
      "46\n"
     ]
    }
   ],
   "source": [
    "def export2csv(file, items):\n",
    "    writer = csv.writer(file)\n",
    "    writer.writerows(items)\n",
    "    return file\n",
    "\n",
    "total_n = 4600\n",
    "page_size = 100\n",
    "page_n = int(total_n / page_size)\n",
    "fn = ['区县','名称','电话','联系人','邮编','地址','创建时间','房屋面积','服务项目']\n",
    "filename = '../data/shanghai_room.csv'\n",
    "csv_file = codecs.open(filename, 'wb','utf-8-sig')\n",
    "export2csv(csv_file, [fn])\n",
    "for page in range(1, page_n+1):\n",
    "    print(page)\n",
    "    url = 'http://app2.shmzj.gov.cn/sample/Gis.aspx?aid=GetDataByObject&objectid=176&orderby=firstarea%20asc&pageindex={}&pagesize={}'.format(page, page_size)\n",
    "    hxs = etree.HTML(requests.get(url).text)\n",
    "    homes = hxs.xpath('//*[@id=\"content\"]/table/tbody/tr')\n",
    "    data = []\n",
    "    for home in homes:\n",
    "        attr = home.xpath('td')\n",
    "        info = []\n",
    "        for i in range(6):\n",
    "            info.append(attr[i].text.strip())\n",
    "        for i in range(7,10):\n",
    "            info.append(attr[i].attrib.get('title').strip())\n",
    "        data.append(info)\n",
    "    export2csv(csv_file, data)\n",
    "csv_file.close()"
   ]
  },
  {
   "cell_type": "code",
   "execution_count": null,
   "metadata": {
    "collapsed": true
   },
   "outputs": [],
   "source": []
  }
 ],
 "metadata": {
  "kernelspec": {
   "display_name": "Python 3",
   "language": "python",
   "name": "python3"
  },
  "language_info": {
   "codemirror_mode": {
    "name": "ipython",
    "version": 3
   },
   "file_extension": ".py",
   "mimetype": "text/x-python",
   "name": "python",
   "nbconvert_exporter": "python",
   "pygments_lexer": "ipython3",
   "version": "3.5.1"
  }
 },
 "nbformat": 4,
 "nbformat_minor": 0
}
